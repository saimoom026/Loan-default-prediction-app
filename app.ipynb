{
 "cells": [
  {
   "cell_type": "code",
   "execution_count": null,
   "metadata": {},
   "outputs": [],
   "source": [
    "import pandas as pd\n",
    "from flask import Flask, jsonify, request\n",
    "import pickle\n",
    "\n",
    "# load model\n",
    "model = pickle.load(open('gbm_dep_class.pkl.pkl','rb'))\n",
    "\n",
    "# app\n",
    "app = Flask(__name__)\n",
    "\n",
    "# routes\n",
    "@app.route('/', methods=['POST'])\n",
    "\n",
    "def predict():\n",
    "    # get data\n",
    "    data = request.get_json(force=True)\n",
    "\n",
    "    # convert data into dataframe\n",
    "    data.update((x, [y]) for x, y in data.items())\n",
    "    data_df = pd.DataFrame.from_dict(data)\n",
    "\n",
    "    # predictions\n",
    "    result = model.predict(data_df)\n",
    "\n",
    "    # send back to browser\n",
    "    output = {'results': int(result[0])}\n",
    "\n",
    "    # return data\n",
    "    return jsonify(results=output)\n",
    "\n",
    "if __name__ == '__main__':\n",
    "    app.run(port = 8888, debug=True)"
   ]
  }
 ],
 "metadata": {
  "kernelspec": {
   "display_name": "Python 3",
   "language": "python",
   "name": "python3"
  },
  "language_info": {
   "codemirror_mode": {
    "name": "ipython",
    "version": 3
   },
   "file_extension": ".py",
   "mimetype": "text/x-python",
   "name": "python",
   "nbconvert_exporter": "python",
   "pygments_lexer": "ipython3",
   "version": "3.7.8"
  }
 },
 "nbformat": 4,
 "nbformat_minor": 4
}
